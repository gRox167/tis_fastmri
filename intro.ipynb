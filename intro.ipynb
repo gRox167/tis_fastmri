{
 "cells": [
  {
   "cell_type": "code",
   "execution_count": null,
   "id": "07a10d8f",
   "metadata": {},
   "outputs": [],
   "source": [
    "%load_ext autoreload\n",
    "%autoreload 2\n",
    "import deepinv as dinv\n",
    "import einx\n",
    "import torch\n",
    "from torch.utils.data import DataLoader"
   ]
  },
  {
   "cell_type": "code",
   "execution_count": null,
   "id": "64f5addc",
   "metadata": {},
   "outputs": [],
   "source": [
    "dinv.datasets.download_archive(\n",
    "    dinv.utils.get_image_url(\"demo_fastmri_brain_multicoil.h5\"),\n",
    "    dinv.utils.get_data_home() / \"brain\" / \"fastmri.h5\",\n",
    ")\n",
    "\n",
    "dataset = dinv.datasets.FastMRISliceDataset(\n",
    "    dinv.utils.get_data_home() / \"brain\", slice_index=\"middle\"\n",
    ")"
   ]
  },
  {
   "cell_type": "code",
   "execution_count": null,
   "id": "db35b741",
   "metadata": {},
   "outputs": [],
   "source": [
    "x, y = next(iter(DataLoader(dataset)))\n",
    "y = einx.rearrange(\n",
    "    \"B C Coil ReadOut Phase_Encoding -> B Coil ReadOut Phase_Encoding C\", y\n",
    ").contiguous()\n",
    "y = torch.view_as_complex(y)\n",
    "img_size, kspace_shape = x.shape[-2:], y.shape[-2:]\n",
    "n_coils = y.shape[2]\n",
    "\n",
    "print(\n",
    "    \"Shapes:\", x.shape, y.shape\n",
    ")  # x (B, 1, H, W); y (B, C, Coil, ReadOut, Phase_Encoding)"
   ]
  },
  {
   "cell_type": "code",
   "execution_count": null,
   "id": "08cbe836",
   "metadata": {},
   "outputs": [],
   "source": [
    "import matplotlib.pyplot as plt\n",
    "\n",
    "# Plot the magnitude of the first slice\n",
    "plt.figure(figsize=(12, 6))\n",
    "\n",
    "# Magnitude plot\n",
    "plt.subplot(1, 2, 1)\n",
    "plt.imshow(y[0, 0].abs(), cmap=\"gray\", vmin=0, vmax=0.0001)\n",
    "plt.title(\"Magnitude\")\n",
    "plt.axis(\"off\")\n",
    "\n",
    "# Phase plot\n",
    "plt.subplot(1, 2, 2)\n",
    "plt.imshow(y[0, 0].angle(), cmap=\"gray\")\n",
    "plt.title(\"Phase\")\n",
    "plt.axis(\"off\")\n",
    "\n",
    "plt.tight_layout()\n",
    "plt.show()"
   ]
  },
  {
   "cell_type": "code",
   "execution_count": null,
   "id": "06fa336e",
   "metadata": {},
   "outputs": [],
   "source": [
    "from tis_fastmri.operators import AdjointModel\n",
    "\n",
    "\n",
    "adj = AdjointModel()\n",
    "x_adjoint = adj(y)"
   ]
  }
 ],
 "metadata": {
  "kernelspec": {
   "display_name": "tis-fastmri",
   "language": "python",
   "name": "python3"
  },
  "language_info": {
   "codemirror_mode": {
    "name": "ipython",
    "version": 3
   },
   "file_extension": ".py",
   "mimetype": "text/x-python",
   "name": "python",
   "nbconvert_exporter": "python",
   "pygments_lexer": "ipython3",
   "version": "3.12.7"
  }
 },
 "nbformat": 4,
 "nbformat_minor": 5
}
